{
  "nbformat": 4,
  "nbformat_minor": 0,
  "metadata": {
    "colab": {
      "name": "aula3.ipynb",
      "provenance": [],
      "collapsed_sections": []
    },
    "kernelspec": {
      "name": "python3",
      "display_name": "Python 3"
    },
    "language_info": {
      "name": "python"
    }
  },
  "cells": [
    {
      "cell_type": "markdown",
      "metadata": {
        "id": "m3lS8kWss38b"
      },
      "source": [
        "# Criando a máquina Preditiva"
      ]
    },
    {
      "cell_type": "code",
      "metadata": {
        "id": "dNqrjPzhsZSM"
      },
      "source": [
        "## Pacotes\n",
        "import pandas as pd     #Biblioteca de Funções de Manipulação de Dados\n",
        "import seaborn as sns   #Biblioteca de Funções de Visualização Gráfica\n",
        "import warnings\n",
        "warnings.filterwarnings(\"ignore\")\n",
        "\n",
        "#Importação dos Dados\n",
        "clientes = pd.read_csv('/content/clientes.csv')\n",
        "\n",
        "#Substituindo caracteres por números\n",
        "clientes['sexo']= clientes['sexo'].map({'Male':0, 'Female':1})\n",
        "clientes['estado_civil']= clientes['estado_civil'].map({'No':0, 'Yes':1})\n",
        "clientes['aprovacao_emprestimo']= clientes['aprovacao_emprestimo'].map({'N':0, 'Y':1})\n",
        "\n",
        "# Eliminando valores Nulos\n",
        "clientes = clientes.dropna()\n",
        "\n",
        "# Separando variáveis Explicativas e Variável TARGET\n",
        "X = clientes[['sexo', 'estado_civil', 'renda', 'emprestimo', 'historico_credito']]\n",
        "y = clientes.aprovacao_emprestimo\n",
        "X.shape, y.shape\n",
        "\n",
        "# importando Pacote para Amostragem dos Dados\n",
        "from sklearn.model_selection import train_test_split\n",
        "\n",
        "# Realizando Amostragem dosa Dados\n",
        "x_train, x_teste, y_train, y_teste = train_test_split(X,y, test_size = 0.2, random_state = 7)\n",
        "\n",
        "#Importando Pacotes para Construção das Máquinas Preditivas com Machine Learning\n",
        "\n",
        "## Algoritmo Random Forest\n",
        "from sklearn.ensemble import RandomForestClassifier \n",
        "\n",
        "#Importando a Métrica de Avaliação\n",
        "from sklearn.metrics import accuracy_score\n",
        "\n",
        "# Criando a Máquina Preditiva com o Random Forest \n",
        "maquina = RandomForestClassifier(max_depth=4, random_state = 7) \n",
        "maquina.fit(x_train, y_train)\n",
        "\n",
        "#Avaliando a Acurácia da Máquina Preditiva Baseline com dados de Teste\n",
        "pred_maquina_teste = maquina.predict(x_teste)\n",
        "accuracy_score(y_teste,pred_maquina_teste)\n",
        "\n",
        "#Comando de Salvamento da Máquina Preditiva\n",
        "import pickle \n",
        "pickle_out = open(\"maquina_preditiva.pkl\", mode = \"wb\") \n",
        "pickle.dump(maquina, pickle_out) \n",
        "pickle_out.close()"
      ],
      "execution_count": 1,
      "outputs": []
    },
    {
      "cell_type": "markdown",
      "metadata": {
        "id": "HZkYBOyutRot"
      },
      "source": [
        "## 1° Instalar o Pacote para Conexão do nosso Sistema na WEB"
      ]
    },
    {
      "cell_type": "code",
      "metadata": {
        "id": "-7N69wm-s0me"
      },
      "source": [
        "#instalação do Pacote para Conexão do nosso Sistema na WEB \n",
        "!pip install -q pyngrok"
      ],
      "execution_count": 2,
      "outputs": []
    },
    {
      "cell_type": "markdown",
      "metadata": {
        "id": "zE9yaDo1tdRc"
      },
      "source": [
        "## 2° Instalar o Pacote para Implementação do nosso Sistema na WEB"
      ]
    },
    {
      "cell_type": "code",
      "metadata": {
        "id": "xhjn0jRQtXWl"
      },
      "source": [
        "#instalação dos Pacotes para Implementação do nosso Sistema na WEB\n",
        "!pip install -q streamlit\n",
        "!pip install -q streamlit_ace"
      ],
      "execution_count": 3,
      "outputs": []
    },
    {
      "cell_type": "markdown",
      "metadata": {
        "id": "XMRwXsnYtwUN"
      },
      "source": [
        "## 3° Criar o Sistema  "
      ]
    },
    {
      "cell_type": "code",
      "metadata": {
        "colab": {
          "base_uri": "https://localhost:8080/"
        },
        "id": "hAmfH8mPtwyQ",
        "outputId": "93d8ab41-6ae5-462d-dd24-6f57d747409a"
      },
      "source": [
        "%%writefile app.py\n",
        "#Comando para Criar o Sistema no arquivo app.py\n",
        "# script python para ser executado de uma vez\n",
        "\n",
        "#Importando Pacotes# \n",
        "import pickle\n",
        "import streamlit as st\n",
        " \n",
        "# Carregando a Máquina Preditiva\n",
        "pickle_in = open('maquina_preditiva.pkl', 'rb') \n",
        "maquina_preditiva = pickle.load(pickle_in)\n",
        "\n",
        "#Manter a sessão em cache \n",
        "@st.cache()\n",
        "  \n",
        "# Criando a função que irá fazer a predição usando os dados impostados pelo usuário do Sistema \n",
        "def prediction(sexo, estado_civil, renda, emprestimo, historico_credito):   \n",
        " \n",
        "    # Pre-processando a entrada do Usuário    \n",
        "    if sexo == \"Masculino\":\n",
        "        sexo = 0\n",
        "    else:\n",
        "        sexo = 1\n",
        " \n",
        "    if estado_civil == \"Solteiro(a)\":\n",
        "        estado_civil = 0\n",
        "    else:\n",
        "        estado_civil = 1\n",
        " \n",
        "    if historico_credito == \"Débitos Pendentes\":\n",
        "        historico_credito = 0\n",
        "    else:\n",
        "        historico_credito = 1  \n",
        " \n",
        "    emprestimo = emprestimo / 1000\n",
        " \n",
        "    # Fazendo Predições\n",
        "    prediction = maquina_preditiva.predict( \n",
        "        [[sexo, estado_civil, renda, emprestimo, historico_credito]])\n",
        "     \n",
        "    if prediction == 0:\n",
        "        pred = 'Rejeitado'\n",
        "    else:\n",
        "        pred = 'Aprovado'\n",
        "    return pred\n",
        "      \n",
        "  \n",
        "# Essa função é para criação da webpage  \n",
        "def main():  \n",
        "\n",
        "    # Elementos da webpage\n",
        "    # Nesse Ponto vc deve Personalizar o Sistema com sua Marca\n",
        "    html_temp = \"\"\" \n",
        "    <div style =\"background-color:blue;padding:13px\"> \n",
        "    <h1 style =\"color:white;text-align:center;\">SAE</h1> \n",
        "    <h2 style =\"color:white;text-align:center;\">Sistema de Aprovação de Empréstimos - by Carlos Alberto Silva Júnior</h2> \n",
        "    </div> \n",
        "    \"\"\"\n",
        "      \n",
        "    # Função do stramlit que faz o display da webpage\n",
        "    st.markdown(html_temp, unsafe_allow_html = True) \n",
        "      \n",
        "    # As linhas abaixo criam as caixas na qual o usuário vai entrar com dados da pessoa que quer o empréstimo para fazer a Predição\n",
        "    sexo = st.selectbox('Sexo',(\"Masculino\",\"Feminino\"))\n",
        "    estado_civil = st.selectbox('Estado Civil',(\"Solteiro(a)\",\"Casado(a)\")) \n",
        "    renda = st.number_input(\"Renda Mensal\") \n",
        "    emprestimo = st.number_input(\"Valor Total do Empréstimo\")\n",
        "    historico_credito = st.selectbox('Histórico de Créditos',(\"Sem Débitos\",\"Débitos Pendentes\"))\n",
        "    result =\"\"\n",
        "      \n",
        "    #Quando o Usuário clicar no botão \"Verificar\" a Máquina Preditiva faz seu trabalho\n",
        "    if st.button(\"Verificar\"): \n",
        "        result = prediction(sexo, estado_civil, renda, emprestimo, historico_credito) \n",
        "        st.success('O empréstimo foi {}'.format(result))\n",
        "        print(emprestimo)\n",
        "     \n",
        "if __name__=='__main__': \n",
        "    main()\n"
      ],
      "execution_count": 4,
      "outputs": [
        {
          "output_type": "stream",
          "text": [
            "Overwriting app.py\n"
          ],
          "name": "stdout"
        }
      ]
    },
    {
      "cell_type": "markdown",
      "metadata": {
        "id": "Kkv6yJkCt6QO"
      },
      "source": [
        "## 4° Executar o Sistema"
      ]
    },
    {
      "cell_type": "code",
      "metadata": {
        "id": "DfQOM_8ct0oX"
      },
      "source": [
        "#Executa o sistema\n",
        "!streamlit run app.py &>/dev/null&"
      ],
      "execution_count": 5,
      "outputs": []
    },
    {
      "cell_type": "markdown",
      "metadata": {
        "id": "iamjUBcuuB2i"
      },
      "source": [
        "##  5° Criar a Conexão do nosso Sistema na WEB"
      ]
    },
    {
      "cell_type": "code",
      "metadata": {
        "id": "7ZhqaHnjt9GL"
      },
      "source": [
        "# Importando a Biblioteca para Conexão do nosso Sistema na WEB \n",
        "from pyngrok import ngrok"
      ],
      "execution_count": 6,
      "outputs": []
    },
    {
      "cell_type": "markdown",
      "metadata": {
        "id": "kwJIysTauMkb"
      },
      "source": [
        "## 6° Publicar nosso Sistema numa URL"
      ]
    },
    {
      "cell_type": "code",
      "metadata": {
        "id": "FMwNxJYjuGRm"
      },
      "source": [
        "#Publica o sistema numa URL\n",
        "public_url = ngrok.connect('8501')"
      ],
      "execution_count": 7,
      "outputs": []
    },
    {
      "cell_type": "markdown",
      "metadata": {
        "id": "tCP9uvmHuVgc"
      },
      "source": [
        "## 7° Abrir o Sistema via Link que contém a palavra ngrok.io"
      ]
    },
    {
      "cell_type": "code",
      "metadata": {
        "colab": {
          "base_uri": "https://localhost:8080/"
        },
        "id": "JxObj-h3uP0O",
        "outputId": "322fc9d0-01e7-42c5-a159-5aa4f4a96741"
      },
      "source": [
        "#URL do sistema\n",
        "public_url"
      ],
      "execution_count": 8,
      "outputs": [
        {
          "output_type": "execute_result",
          "data": {
            "text/plain": [
              "<NgrokTunnel: \"http://e7e08e9c4881.ngrok.io\" -> \"http://localhost:8501\">"
            ]
          },
          "metadata": {
            "tags": []
          },
          "execution_count": 8
        }
      ]
    },
    {
      "cell_type": "code",
      "metadata": {
        "id": "rVtZjmmbuaYB"
      },
      "source": [
        ""
      ],
      "execution_count": 8,
      "outputs": []
    }
  ]
}