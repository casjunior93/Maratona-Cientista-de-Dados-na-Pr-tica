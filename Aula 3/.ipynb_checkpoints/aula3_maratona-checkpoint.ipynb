{
 "cells": [
  {
   "cell_type": "markdown",
   "metadata": {
    "id": "WHSU8NShZedN"
   },
   "source": [
    "![alt text](https://encrypted-tbn0.gstatic.com/images?q=tbn%3AANd9GcTK4gQ9nhwHHaSXMHpeggWg7twwMCgb877smkRmtkmDeDoGF9Z6&usqp=CAU)"
   ]
  },
  {
   "cell_type": "markdown",
   "metadata": {
    "id": "7oiQVQi0AJ6D"
   },
   "source": [
    "# <font color='Blue'>Maratona Cientista de Dados na Prática</font>\n",
    "\n",
    "### <font color='GREY'> SAE - Sistema de Aprovação de Empréstimos </font>  \n",
    "\n",
    "![](https://i.gifer.com/MKsN.gif)\n",
    "\n",
    "\n"
   ]
  },
  {
   "cell_type": "markdown",
   "metadata": {
    "id": "PpHbZsBZ2aDB"
   },
   "source": [
    "# <font color='Black'> **Aula 3 - Criando uma Aplicação WEB com sua Máquina Preditiva** </font>\n",
    "\n"
   ]
  },
  {
   "cell_type": "markdown",
   "metadata": {
    "id": "LI4TUsUJ0u66"
   },
   "source": [
    "# <font color='Blue'>6° Implementando a Maquina Preditiva  para a Fintech Crédito Fácil</font>\n",
    "![](https://buhgalteru.kz/wp-content/uploads/2020/09/robot.gif)\n"
   ]
  },
  {
   "cell_type": "markdown",
   "metadata": {
    "id": "kEUIRvSlVy4H"
   },
   "source": [
    "![](https://cienciadosdados.com/images/2021/Design_sem_nome_10.png)"
   ]
  },
  {
   "cell_type": "markdown",
   "metadata": {
    "id": "l8D_ZDsg9vVA"
   },
   "source": [
    "### **Guia Passo a Passo** para Implementação do Sistema de Aprovação de Empréstimo Online:"
   ]
  },
  {
   "cell_type": "markdown",
   "metadata": {
    "id": "BWnqIW7vWONv"
   },
   "source": [
    "###### **Observação**: Caso não esteja fazendo as aulas sequencialmente e tenha desligado a sessão no Colab, reexecute o Script abaixo antes de ir para o 1°Passo."
   ]
  },
  {
   "cell_type": "code",
   "execution_count": 2,
   "metadata": {
    "id": "c6kMyerHB4tv"
   },
   "outputs": [],
   "source": [
    "## Pacotes\n",
    "import pandas as pd     #Biblioteca de Funções de Manipulação de Dados\n",
    "import seaborn as sns   #Biblioteca de Funções de Visualização Gráfica\n",
    "import warnings\n",
    "warnings.filterwarnings(\"ignore\")\n",
    "\n",
    "#Importação dos Dados\n",
    "clientes = pd.read_csv('clientes.csv')\n",
    "\n",
    "#Substituindo caracteres por números\n",
    "clientes['sexo']= clientes['sexo'].map({'Male':0, 'Female':1})\n",
    "clientes['estado_civil']= clientes['estado_civil'].map({'No':0, 'Yes':1})\n",
    "clientes['aprovacao_emprestimo']= clientes['aprovacao_emprestimo'].map({'N':0, 'Y':1})\n",
    "\n",
    "# Eliminando valores Nulos\n",
    "clientes = clientes.dropna()\n",
    "\n",
    "# Separando variáveis Explicativas e Variável TARGET\n",
    "X = clientes[['sexo', 'estado_civil', 'renda', 'emprestimo', 'historico_credito']]\n",
    "y = clientes.aprovacao_emprestimo\n",
    "X.shape, y.shape\n",
    "\n",
    "# importando Pacote para Amostragem dos Dados\n",
    "from sklearn.model_selection import train_test_split\n",
    "\n",
    "# Realizando Amostragem dosa Dados\n",
    "x_train, x_teste, y_train, y_teste = train_test_split(X,y, test_size = 0.2, random_state = 7)\n",
    "\n",
    "#Importando Pacotes para Construção das Máquinas Preditivas com Machine Learning\n",
    "\n",
    "## Algoritmo Random Forest\n",
    "from sklearn.ensemble import RandomForestClassifier \n",
    "\n",
    "#Importando a Métrica de Avaliação\n",
    "from sklearn.metrics import accuracy_score\n",
    "\n",
    "# Criando a Máquina Preditiva com o Random Forest \n",
    "maquina = RandomForestClassifier(max_depth=4, random_state = 7) \n",
    "maquina.fit(x_train, y_train)\n",
    "\n",
    "#Avaliando a Acurácia da Máquina Preditiva Baseline com dados de Teste\n",
    "pred_maquina_teste = maquina.predict(x_teste)\n",
    "accuracy_score(y_teste,pred_maquina_teste)\n",
    "\n",
    "#Comando de Salvamento da Máquina Preditiva\n",
    "import pickle \n",
    "pickle_out = open(\"maquina_preditiva.pkl\", mode = \"wb\") \n",
    "pickle.dump(maquina, pickle_out) \n",
    "pickle_out.close()"
   ]
  },
  {
   "cell_type": "markdown",
   "metadata": {
    "id": "eZ5JvDVuw1Eq"
   },
   "source": [
    "## 1° Instalar o Pacote para Conexão do nosso Sistema na WEB"
   ]
  },
  {
   "cell_type": "code",
   "execution_count": 3,
   "metadata": {
    "colab": {
     "base_uri": "https://localhost:8080/"
    },
    "id": "SSaPBHuDDwx3",
    "outputId": "e052505e-5ec3-4d0f-dcb3-8aad54bfbe33"
   },
   "outputs": [],
   "source": [
    "#instalação do Pacote para Conexão do nosso Sistema na WEB \n",
    "!pip install -q pyngrok\n"
   ]
  },
  {
   "cell_type": "markdown",
   "metadata": {
    "id": "ic15OJwXw7Xv"
   },
   "source": [
    "## 2° Instalar o Pacote para Implementação do nosso Sistema na WEB"
   ]
  },
  {
   "cell_type": "code",
   "execution_count": 5,
   "metadata": {
    "id": "dSIEmVidDx_G"
   },
   "outputs": [],
   "source": [
    "#instalação dos Pacotes para Implementação do nosso Sistema na WEB\n",
    "!pip install -q streamlit\n",
    "!pip install -q streamlit_ace\n"
   ]
  },
  {
   "cell_type": "markdown",
   "metadata": {
    "id": "FuX_oCBC2Ylp"
   },
   "source": [
    "## 3° Criar o Sistema  "
   ]
  },
  {
   "cell_type": "code",
   "execution_count": 8,
   "metadata": {
    "colab": {
     "base_uri": "https://localhost:8080/"
    },
    "id": "1ydtW0TPEY7t",
    "outputId": "5241a832-5a16-4061-b552-392f09246b25"
   },
   "outputs": [
    {
     "name": "stdout",
     "output_type": "stream",
     "text": [
      "Writing app.py\n"
     ]
    }
   ],
   "source": [
    "%%writefile app.py\n",
    "#Comando para Criar o Sistema no arquivo app.py\n",
    "# script python para ser executado de uma vez\n",
    "\n",
    "#Importando Pacotes# \n",
    "import pickle\n",
    "import streamlit as st\n",
    " \n",
    "# Carregando a Máquina Preditiva\n",
    "pickle_in = open('maquina_preditiva.pkl', 'rb') \n",
    "maquina_preditiva = pickle.load(pickle_in)\n",
    "\n",
    "#Manter a sessão em cache \n",
    "@st.cache()\n",
    "  \n",
    "# Criando a função que irá fazer a predição usando os dados impostados pelo usuário do Sistema \n",
    "def prediction(sexo, estado_civil, renda, emprestimo, historico_credito):   \n",
    " \n",
    "    # Pre-processando a entrada do Usuário    \n",
    "    if sexo == \"Masculino\":\n",
    "        sexo = 0\n",
    "    else:\n",
    "        sexo = 1\n",
    " \n",
    "    if estado_civil == \"Solteiro(a)\":\n",
    "        estado_civil = 0\n",
    "    else:\n",
    "        estado_civil = 1\n",
    " \n",
    "    if historico_credito == \"Débitos Pendentes\":\n",
    "        historico_credito = 0\n",
    "    else:\n",
    "        historico_credito = 1  \n",
    " \n",
    "    emprestimo = emprestimo / 1000\n",
    " \n",
    "    # Fazendo Predições\n",
    "    prediction = maquina_preditiva.predict( \n",
    "        [[sexo, estado_civil, renda, emprestimo, historico_credito]])\n",
    "     \n",
    "    if prediction == 0:\n",
    "        pred = 'Rejeitado'\n",
    "    else:\n",
    "        pred = 'Aprovado'\n",
    "    return pred\n",
    "      \n",
    "  \n",
    "# Essa função é para criação da webpage  \n",
    "def main():  \n",
    "\n",
    "    # Elementos da webpage\n",
    "    # Nesse Ponto vc deve Personalizar o Sistema com sua Marca\n",
    "    html_temp = \"\"\" \n",
    "    <div style =\"background-color:blue;padding:13px\"> \n",
    "    <h1 style =\"color:white;text-align:center;\">SAE</h1> \n",
    "    <h2 style =\"color:white;text-align:center;\">Sistema de Aprovação de Empréstimos - by Carlos Alberto Silva Júnior</h2> \n",
    "    </div> \n",
    "    \"\"\"\n",
    "      \n",
    "    # Função do stramlit que faz o display da webpage\n",
    "    st.markdown(html_temp, unsafe_allow_html = True) \n",
    "      \n",
    "    # As linhas abaixo criam as caixas na qual o usuário vai entrar com dados da pessoa que quer o empréstimo para fazer a Predição\n",
    "    sexo = st.selectbox('Sexo',(\"Masculino\",\"Feminino\"))\n",
    "    estado_civil = st.selectbox('Estado Civil',(\"Solteiro(a)\",\"Casado(a)\")) \n",
    "    renda = st.number_input(\"Renda Mensal\") \n",
    "    emprestimo = st.number_input(\"Valor Total do Empréstimo\")\n",
    "    historico_credito = st.selectbox('Histórico de Créditos',(\"Sem Débitos\",\"Débitos Pendentes\"))\n",
    "    result =\"\"\n",
    "      \n",
    "    #Quando o Usuário clicar no botão \"Verificar\" a Máquina Preditiva faz seu trabalho\n",
    "    if st.button(\"Verificar\"): \n",
    "        result = prediction(sexo, estado_civil, renda, emprestimo, historico_credito) \n",
    "        st.success('O empréstimo foi {}'.format(result))\n",
    "        print(emprestimo)\n",
    "     \n",
    "if __name__=='__main__': \n",
    "    main()\n"
   ]
  },
  {
   "cell_type": "markdown",
   "metadata": {
    "id": "BEDDT7-SxQ_V"
   },
   "source": [
    "## 4° Executar o Sistema"
   ]
  },
  {
   "cell_type": "code",
   "execution_count": 9,
   "metadata": {
    "id": "XZNzucf0EZIa"
   },
   "outputs": [
    {
     "ename": "OSError",
     "evalue": "Background processes not supported.",
     "output_type": "error",
     "traceback": [
      "\u001b[1;31m---------------------------------------------------------------------------\u001b[0m",
      "\u001b[1;31mOSError\u001b[0m                                   Traceback (most recent call last)",
      "\u001b[1;32m<ipython-input-9-608ebcac35d5>\u001b[0m in \u001b[0;36m<module>\u001b[1;34m\u001b[0m\n\u001b[0;32m      1\u001b[0m \u001b[1;31m#Executa o sistema\u001b[0m\u001b[1;33m\u001b[0m\u001b[1;33m\u001b[0m\u001b[1;33m\u001b[0m\u001b[0m\n\u001b[1;32m----> 2\u001b[1;33m \u001b[0mget_ipython\u001b[0m\u001b[1;33m(\u001b[0m\u001b[1;33m)\u001b[0m\u001b[1;33m.\u001b[0m\u001b[0msystem\u001b[0m\u001b[1;33m(\u001b[0m\u001b[1;34m'streamlit run app.py &>/dev/null&'\u001b[0m\u001b[1;33m)\u001b[0m\u001b[1;33m\u001b[0m\u001b[1;33m\u001b[0m\u001b[0m\n\u001b[0m",
      "\u001b[1;32m~\\anaconda3\\lib\\site-packages\\ipykernel\\zmqshell.py\u001b[0m in \u001b[0;36msystem_piped\u001b[1;34m(self, cmd)\u001b[0m\n\u001b[0;32m    618\u001b[0m             \u001b[1;31m# os.system() or use ip.system=ip.system_raw\u001b[0m\u001b[1;33m\u001b[0m\u001b[1;33m\u001b[0m\u001b[1;33m\u001b[0m\u001b[0m\n\u001b[0;32m    619\u001b[0m             \u001b[1;31m# if they really want a background process.\u001b[0m\u001b[1;33m\u001b[0m\u001b[1;33m\u001b[0m\u001b[1;33m\u001b[0m\u001b[0m\n\u001b[1;32m--> 620\u001b[1;33m             \u001b[1;32mraise\u001b[0m \u001b[0mOSError\u001b[0m\u001b[1;33m(\u001b[0m\u001b[1;34m\"Background processes not supported.\"\u001b[0m\u001b[1;33m)\u001b[0m\u001b[1;33m\u001b[0m\u001b[1;33m\u001b[0m\u001b[0m\n\u001b[0m\u001b[0;32m    621\u001b[0m \u001b[1;33m\u001b[0m\u001b[0m\n\u001b[0;32m    622\u001b[0m         \u001b[1;31m# we explicitly do NOT return the subprocess status code, because\u001b[0m\u001b[1;33m\u001b[0m\u001b[1;33m\u001b[0m\u001b[1;33m\u001b[0m\u001b[0m\n",
      "\u001b[1;31mOSError\u001b[0m: Background processes not supported."
     ]
    }
   ],
   "source": [
    "#Executa o sistema\n",
    "!streamlit run app.py &>/dev/null&"
   ]
  },
  {
   "cell_type": "markdown",
   "metadata": {
    "id": "QwFdBpu_xamW"
   },
   "source": [
    "##5° Criar a Conexão do nosso Sistema na WEB"
   ]
  },
  {
   "cell_type": "code",
   "execution_count": 8,
   "metadata": {
    "id": "LZ5jaY4GGC88"
   },
   "outputs": [],
   "source": [
    "# Importando a Biblioteca para Conexão do nosso Sistema na WEB \n",
    "from pyngrok import ngrok"
   ]
  },
  {
   "cell_type": "markdown",
   "metadata": {
    "id": "zyWvfoAMxhAc"
   },
   "source": [
    "##6° Publicar nosso Sistema numa URL"
   ]
  },
  {
   "cell_type": "code",
   "execution_count": 9,
   "metadata": {
    "colab": {
     "base_uri": "https://localhost:8080/"
    },
    "id": "r8VfOxWzUmiK",
    "outputId": "06e9df99-9d73-4041-8584-3100473659d6"
   },
   "outputs": [
    {
     "name": "stdout",
     "output_type": "stream",
     "text": []
    }
   ],
   "source": [
    "#Publica o sistema numa URL\n",
    "public_url = ngrok.connect('8501')"
   ]
  },
  {
   "cell_type": "markdown",
   "metadata": {
    "id": "6VgBGpnUxn9u"
   },
   "source": [
    "##7° Abrir o Sistema via Link que contém a palavra ngrok.io"
   ]
  },
  {
   "cell_type": "code",
   "execution_count": 10,
   "metadata": {
    "colab": {
     "base_uri": "https://localhost:8080/"
    },
    "id": "i3xz6K0kTsiG",
    "outputId": "3683b695-ce42-4422-9682-336e189b3af3"
   },
   "outputs": [
    {
     "data": {
      "text/plain": [
       "<NgrokTunnel: \"http://808a23b661f1.ngrok.io\" -> \"http://localhost:8501\">"
      ]
     },
     "execution_count": 10,
     "metadata": {
      "tags": []
     },
     "output_type": "execute_result"
    }
   ],
   "source": [
    "#URL do sistema\n",
    "public_url"
   ]
  },
  {
   "cell_type": "markdown",
   "metadata": {
    "id": "6Mp2HsHhIj-c"
   },
   "source": [
    "# <font color='Black'> **Aula 4 - O GPS: Se tornando um Cientista de Dados** </font>\n",
    "![](https://cdn.dribbble.com/users/355826/screenshots/8809323/media/2b721f9539eba3c7597f2a7f380ed56b.gif)\n",
    "\n",
    "![](https://techcrunch.com/wp-content/uploads/2020/01/spacex-starlink-launch-jan-20.gif?w=730&crop=1)\n",
    "\n",
    "![](https://cdn.dribbble.com/users/364457/screenshots/5437045/playsharp-timer-dribbble.gif)"
   ]
  },
  {
   "cell_type": "markdown",
   "metadata": {
    "id": "XTRc7NjBKG65"
   },
   "source": [
    "# Fim"
   ]
  }
 ],
 "metadata": {
  "colab": {
   "collapsed_sections": [],
   "name": "aula3_maratona.ipynb",
   "provenance": []
  },
  "kernelspec": {
   "display_name": "Python 3",
   "language": "python",
   "name": "python3"
  },
  "language_info": {
   "codemirror_mode": {
    "name": "ipython",
    "version": 3
   },
   "file_extension": ".py",
   "mimetype": "text/x-python",
   "name": "python",
   "nbconvert_exporter": "python",
   "pygments_lexer": "ipython3",
   "version": "3.8.8"
  }
 },
 "nbformat": 4,
 "nbformat_minor": 1
}
