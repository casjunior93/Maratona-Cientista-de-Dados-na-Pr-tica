{
 "cells": [
  {
   "cell_type": "markdown",
   "metadata": {
    "id": "WHSU8NShZedN"
   },
   "source": [
    "![alt text](https://encrypted-tbn0.gstatic.com/images?q=tbn%3AANd9GcTK4gQ9nhwHHaSXMHpeggWg7twwMCgb877smkRmtkmDeDoGF9Z6&usqp=CAU)"
   ]
  },
  {
   "cell_type": "markdown",
   "metadata": {
    "id": "7oiQVQi0AJ6D"
   },
   "source": [
    "# <font color='Blue'>Maratona Cientista de Dados na Prática</font>\n",
    "\n",
    "### <font color='GREY'> SAE - Sistema de Aprovação de Empréstimos </font>  \n",
    "\n",
    "![](https://i.gifer.com/MKsN.gif)\n",
    "\n",
    "\n"
   ]
  },
  {
   "cell_type": "markdown",
   "metadata": {
    "id": "XcDuCbTG2PSi"
   },
   "source": [
    "# <font color='Black'> **Aula 2 - Construíndo Máquinas Preditivas** </font>\n",
    "\n",
    "![](https://play.vidyard.com/17BCs3HpfP36GhwmAgaKuC.jpg)"
   ]
  },
  {
   "cell_type": "markdown",
   "metadata": {
    "id": "xLOUwyNzQHVt"
   },
   "source": [
    "#### Vamos refazer algumas etapas da **AULA 1** para começar a construção das Máquinas Preditivas.\n"
   ]
  },
  {
   "cell_type": "code",
   "execution_count": 2,
   "metadata": {
    "id": "c6kMyerHB4tv"
   },
   "outputs": [],
   "source": [
    "## Pacotes\n",
    "import pandas as pd     #Biblioteca de Funções de Manipulação de Dados\n",
    "import seaborn as sns   #Biblioteca de Funções de Visualização Gráfica\n",
    "import warnings\n",
    "warnings.filterwarnings(\"ignore\")\n",
    "\n",
    "#Importação dos Dados\n",
    "clientes = pd.read_csv('clientes.csv')\n",
    "\n",
    "#Substituindo caracteres por números\n",
    "clientes['sexo']= clientes['sexo'].map({'Male':0, 'Female':1})\n",
    "clientes['estado_civil']= clientes['estado_civil'].map({'No':0, 'Yes':1})\n",
    "clientes['aprovacao_emprestimo']= clientes['aprovacao_emprestimo'].map({'N':0, 'Y':1})\n",
    "\n",
    "# Eliminando valores Nulos\n",
    "clientes = clientes.dropna()\n",
    "\n",
    "# Separando variáveis Explicativas e Variável TARGET\n",
    "X = clientes[['sexo', 'estado_civil', 'renda', 'emprestimo', 'historico_credito']]\n",
    "y = clientes.aprovacao_emprestimo\n",
    "X.shape, y.shape\n",
    "\n",
    "# importando Pacote para Amostragem dos Dados\n",
    "from sklearn.model_selection import train_test_split\n",
    "\n",
    "# Realizando Amostragem dosa Dados\n",
    "x_train, x_teste, y_train, y_teste = train_test_split(X,y, test_size = 0.2, random_state = 7)"
   ]
  },
  {
   "cell_type": "code",
   "execution_count": 3,
   "metadata": {
    "id": "5czuM8AoelMQ"
   },
   "outputs": [
    {
     "data": {
      "text/html": [
       "<div>\n",
       "<style scoped>\n",
       "    .dataframe tbody tr th:only-of-type {\n",
       "        vertical-align: middle;\n",
       "    }\n",
       "\n",
       "    .dataframe tbody tr th {\n",
       "        vertical-align: top;\n",
       "    }\n",
       "\n",
       "    .dataframe thead th {\n",
       "        text-align: right;\n",
       "    }\n",
       "</style>\n",
       "<table border=\"1\" class=\"dataframe\">\n",
       "  <thead>\n",
       "    <tr style=\"text-align: right;\">\n",
       "      <th></th>\n",
       "      <th>sexo</th>\n",
       "      <th>estado_civil</th>\n",
       "      <th>renda</th>\n",
       "      <th>emprestimo</th>\n",
       "      <th>historico_credito</th>\n",
       "    </tr>\n",
       "  </thead>\n",
       "  <tbody>\n",
       "    <tr>\n",
       "      <th>172</th>\n",
       "      <td>0.0</td>\n",
       "      <td>1.0</td>\n",
       "      <td>3522</td>\n",
       "      <td>81.0</td>\n",
       "      <td>1.0</td>\n",
       "    </tr>\n",
       "    <tr>\n",
       "      <th>4</th>\n",
       "      <td>0.0</td>\n",
       "      <td>0.0</td>\n",
       "      <td>6000</td>\n",
       "      <td>141.0</td>\n",
       "      <td>1.0</td>\n",
       "    </tr>\n",
       "    <tr>\n",
       "      <th>566</th>\n",
       "      <td>0.0</td>\n",
       "      <td>0.0</td>\n",
       "      <td>3333</td>\n",
       "      <td>70.0</td>\n",
       "      <td>1.0</td>\n",
       "    </tr>\n",
       "    <tr>\n",
       "      <th>74</th>\n",
       "      <td>0.0</td>\n",
       "      <td>1.0</td>\n",
       "      <td>5266</td>\n",
       "      <td>187.0</td>\n",
       "      <td>1.0</td>\n",
       "    </tr>\n",
       "    <tr>\n",
       "      <th>417</th>\n",
       "      <td>0.0</td>\n",
       "      <td>1.0</td>\n",
       "      <td>1600</td>\n",
       "      <td>239.0</td>\n",
       "      <td>1.0</td>\n",
       "    </tr>\n",
       "    <tr>\n",
       "      <th>...</th>\n",
       "      <td>...</td>\n",
       "      <td>...</td>\n",
       "      <td>...</td>\n",
       "      <td>...</td>\n",
       "      <td>...</td>\n",
       "    </tr>\n",
       "    <tr>\n",
       "      <th>269</th>\n",
       "      <td>1.0</td>\n",
       "      <td>0.0</td>\n",
       "      <td>2876</td>\n",
       "      <td>90.0</td>\n",
       "      <td>1.0</td>\n",
       "    </tr>\n",
       "    <tr>\n",
       "      <th>85</th>\n",
       "      <td>0.0</td>\n",
       "      <td>0.0</td>\n",
       "      <td>2366</td>\n",
       "      <td>136.0</td>\n",
       "      <td>1.0</td>\n",
       "    </tr>\n",
       "    <tr>\n",
       "      <th>33</th>\n",
       "      <td>0.0</td>\n",
       "      <td>1.0</td>\n",
       "      <td>3500</td>\n",
       "      <td>114.0</td>\n",
       "      <td>1.0</td>\n",
       "    </tr>\n",
       "    <tr>\n",
       "      <th>251</th>\n",
       "      <td>1.0</td>\n",
       "      <td>0.0</td>\n",
       "      <td>3427</td>\n",
       "      <td>138.0</td>\n",
       "      <td>1.0</td>\n",
       "    </tr>\n",
       "    <tr>\n",
       "      <th>224</th>\n",
       "      <td>0.0</td>\n",
       "      <td>1.0</td>\n",
       "      <td>6250</td>\n",
       "      <td>128.0</td>\n",
       "      <td>1.0</td>\n",
       "    </tr>\n",
       "  </tbody>\n",
       "</table>\n",
       "<p>384 rows × 5 columns</p>\n",
       "</div>"
      ],
      "text/plain": [
       "     sexo  estado_civil  renda  emprestimo  historico_credito\n",
       "172   0.0           1.0   3522        81.0                1.0\n",
       "4     0.0           0.0   6000       141.0                1.0\n",
       "566   0.0           0.0   3333        70.0                1.0\n",
       "74    0.0           1.0   5266       187.0                1.0\n",
       "417   0.0           1.0   1600       239.0                1.0\n",
       "..    ...           ...    ...         ...                ...\n",
       "269   1.0           0.0   2876        90.0                1.0\n",
       "85    0.0           0.0   2366       136.0                1.0\n",
       "33    0.0           1.0   3500       114.0                1.0\n",
       "251   1.0           0.0   3427       138.0                1.0\n",
       "224   0.0           1.0   6250       128.0                1.0\n",
       "\n",
       "[384 rows x 5 columns]"
      ]
     },
     "execution_count": 3,
     "metadata": {},
     "output_type": "execute_result"
    }
   ],
   "source": [
    "x_train"
   ]
  },
  {
   "cell_type": "markdown",
   "metadata": {
    "id": "Y3rduQxEku9Y"
   },
   "source": [
    "# 4° Construindo a Máquina Preditiva"
   ]
  },
  {
   "cell_type": "markdown",
   "metadata": {
    "id": "V4DWJ3hGhqEp"
   },
   "source": [
    "### 1° Versão da Máquina Preditiva: Criando um **baseline**\n",
    "\n",
    "Aqui nós vamos criar a primeira versão da Máquina Preditiva. Depois, vamos buscar formas de melhorar a assertividade do modelo. \n",
    "\n",
    "![](https://i.pinimg.com/originals/99/aa/fe/99aafeb638771b8cacf8a4670b34ea70.gif)"
   ]
  },
  {
   "cell_type": "code",
   "execution_count": 4,
   "metadata": {
    "id": "pMLFwuXRDdQN"
   },
   "outputs": [],
   "source": [
    "#Importando Pacotes para Construção das Máquinas Preditivas com Machine Learning\n",
    "\n",
    "## Algoritmo Random Forest\n",
    "from sklearn.ensemble import RandomForestClassifier "
   ]
  },
  {
   "cell_type": "code",
   "execution_count": 6,
   "metadata": {
    "colab": {
     "base_uri": "https://localhost:8080/"
    },
    "id": "5RMQnV0MvbpH",
    "outputId": "124247e2-ca27-4d28-a7c9-b3815aee1ddd"
   },
   "outputs": [
    {
     "data": {
      "text/plain": [
       "RandomForestClassifier()"
      ]
     },
     "execution_count": 6,
     "metadata": {},
     "output_type": "execute_result"
    }
   ],
   "source": [
    "# Criando a Máquina Preditiva com o Random Forest\n",
    "maquina = RandomForestClassifier() \n",
    "maquina.fit(x_train, y_train)"
   ]
  },
  {
   "cell_type": "markdown",
   "metadata": {
    "id": "7zs6B8NF5asB"
   },
   "source": [
    "# 5° Avaliando a Máquina Preditiva"
   ]
  },
  {
   "cell_type": "code",
   "execution_count": 7,
   "metadata": {
    "id": "qD22ROaYvtW2"
   },
   "outputs": [],
   "source": [
    "#Importando a Métrica de Avaliação\n",
    "from sklearn.metrics import accuracy_score"
   ]
  },
  {
   "cell_type": "code",
   "execution_count": 8,
   "metadata": {
    "colab": {
     "base_uri": "https://localhost:8080/"
    },
    "id": "oOnO2uJVxpe8",
    "outputId": "3d264eb8-ee8f-4d5e-fb9d-27475959f1d4"
   },
   "outputs": [
    {
     "data": {
      "text/plain": [
       "1.0"
      ]
     },
     "execution_count": 8,
     "metadata": {},
     "output_type": "execute_result"
    }
   ],
   "source": [
    "#Avaliando a Acurácia da Máquina Preditiva Baseline com os dados de Treino\n",
    "pred_maquina = maquina.predict(x_train)\n",
    "accuracy_score(y_train,pred_maquina)"
   ]
  },
  {
   "cell_type": "code",
   "execution_count": 9,
   "metadata": {
    "colab": {
     "base_uri": "https://localhost:8080/"
    },
    "id": "gXAARziZwAxE",
    "outputId": "a71bcfdc-2978-4cee-9fd1-75656a4dc9ba"
   },
   "outputs": [
    {
     "data": {
      "text/plain": [
       "0.7291666666666666"
      ]
     },
     "execution_count": 9,
     "metadata": {},
     "output_type": "execute_result"
    }
   ],
   "source": [
    "#Avaliando a Acurácia da Máquina Preditiva Baseline com dados de Teste\n",
    "pred_maquina = maquina.predict(x_teste)\n",
    "accuracy_score(y_teste,pred_maquina)"
   ]
  },
  {
   "cell_type": "markdown",
   "metadata": {
    "id": "cUQ5JbQk56wl"
   },
   "source": [
    "### 2° Versão da Máquina Preditiva: Batendo o Baseline"
   ]
  },
  {
   "cell_type": "markdown",
   "metadata": {
    "id": "ENSMMYTyY8gS"
   },
   "source": [
    "#### Tunando (calibrando) **Hiperparâmetros** do Algoritmo\n",
    "\n",
    "https://scikit-learn.org/stable/modules/generated/sklearn.ensemble.RandomForestClassifier.html"
   ]
  },
  {
   "cell_type": "markdown",
   "metadata": {
    "id": "fuzazGf_Z2PJ"
   },
   "source": [
    "Vamos utilizar um hiperparâmetro do algoritimo RANDOM FOREST de nome \"**max_depth**\", cujo objetivo é exatamente combater problemas de \"***Overfiting***\"."
   ]
  },
  {
   "cell_type": "markdown",
   "metadata": {
    "id": "xr3RhPx8U8FK"
   },
   "source": [
    "![](https://hackernoon.com/hn-images/1*SBUK2QEfCP-zvJmKm14wGQ.png)\n",
    "\n",
    "![](https://machinelearningknowledge.ai/wp-content/uploads/2019/05/Overfitting-and-Underfitting-Animation.gif)\n",
    "\n",
    "![](https://cdn-images-1.medium.com/max/1600/1*vuZxFMi5fODz2OEcpG-S1g.png)"
   ]
  },
  {
   "cell_type": "markdown",
   "metadata": {
    "id": "Hkn2odUuWvVM"
   },
   "source": [
    "### Usando o Hiperparâmetro \"**max_depth**\" para diminuir \"overfiting\""
   ]
  },
  {
   "cell_type": "code",
   "execution_count": 21,
   "metadata": {
    "colab": {
     "base_uri": "https://localhost:8080/"
    },
    "id": "SHJEOhE7yIRV",
    "outputId": "40da3cd9-94fd-44ef-9f98-a7ed1ccc1443"
   },
   "outputs": [
    {
     "data": {
      "text/plain": [
       "RandomForestClassifier(max_depth=4, n_estimators=10000, random_state=7)"
      ]
     },
     "execution_count": 21,
     "metadata": {},
     "output_type": "execute_result"
    }
   ],
   "source": [
    "# Criando a Máquina Preditiva com o Random Forest \n",
    "maquina = RandomForestClassifier(max_depth=4, random_state = 7, n_estimators = 10000) #max_depth - máquina só quebre até a profundidade 4\n",
    "maquina.fit(x_train, y_train)"
   ]
  },
  {
   "cell_type": "code",
   "execution_count": 22,
   "metadata": {
    "colab": {
     "base_uri": "https://localhost:8080/"
    },
    "id": "ASaXrCjpy9Bo",
    "outputId": "98522c7c-13b9-4115-efcf-71cf121e723c"
   },
   "outputs": [
    {
     "data": {
      "text/plain": [
       "0.8229166666666666"
      ]
     },
     "execution_count": 22,
     "metadata": {},
     "output_type": "execute_result"
    }
   ],
   "source": [
    "#Avaliando a Acurácia da Máquina Preditiva Baseline com os dados de Treino\n",
    "pred_maquina_treino = maquina.predict(x_train)\n",
    "accuracy_score(y_train,pred_maquina_treino)"
   ]
  },
  {
   "cell_type": "code",
   "execution_count": 23,
   "metadata": {
    "colab": {
     "base_uri": "https://localhost:8080/"
    },
    "id": "hyvhTN-jy9Bp",
    "outputId": "84a469c6-8bc5-4007-bf0f-d6a9d74fbabb"
   },
   "outputs": [
    {
     "data": {
      "text/plain": [
       "0.78125"
      ]
     },
     "execution_count": 23,
     "metadata": {},
     "output_type": "execute_result"
    }
   ],
   "source": [
    "#Avaliando a Acurácia da Máquina Preditiva Baseline com dados de Teste\n",
    "pred_maquina_teste = maquina.predict(x_teste)\n",
    "accuracy_score(y_teste,pred_maquina_teste)"
   ]
  },
  {
   "cell_type": "markdown",
   "metadata": {
    "id": "tBRoCZXtW8fa"
   },
   "source": [
    "![](https://i.pinimg.com/originals/33/32/cb/3332cba8c30ea6266cb86695bb59871e.gif)"
   ]
  },
  {
   "cell_type": "markdown",
   "metadata": {
    "id": "JF6KpP184sv3"
   },
   "source": [
    "### Verificando as Variáveis mais importantes"
   ]
  },
  {
   "cell_type": "code",
   "execution_count": 24,
   "metadata": {
    "colab": {
     "base_uri": "https://localhost:8080/"
    },
    "id": "0JOxn0bC21Yu",
    "outputId": "164e8a3b-4973-4e07-8179-23752a4921b1"
   },
   "outputs": [
    {
     "data": {
      "text/plain": [
       "array([0.0176642 , 0.03260418, 0.18342766, 0.15515226, 0.61115171])"
      ]
     },
     "execution_count": 24,
     "metadata": {},
     "output_type": "execute_result"
    }
   ],
   "source": [
    "#Importancia das Variáveis\n",
    "maquina.feature_importances_"
   ]
  },
  {
   "cell_type": "code",
   "execution_count": 25,
   "metadata": {
    "colab": {
     "base_uri": "https://localhost:8080/",
     "height": 282
    },
    "id": "bvcYIJEH4Ax_",
    "outputId": "417ae3c6-c881-4532-d0ad-40435bafdd4c"
   },
   "outputs": [
    {
     "name": "stdout",
     "output_type": "stream",
     "text": [
      "[0.0176642  0.03260418 0.18342766 0.15515226 0.61115171]\n"
     ]
    },
    {
     "data": {
      "image/png": "[encoded data removed]",
      "text/plain": [
       "<Figure size 432x288 with 1 Axes>"
      ]
     },
     "metadata": {
      "needs_background": "light"
     },
     "output_type": "display_data"
    }
   ],
   "source": [
    "#Importancia das Variáveis com Gráfico\n",
    "print(maquina.feature_importances_)\n",
    "# plot\n",
    "from matplotlib import pyplot\n",
    "pyplot.bar(range(len(maquina.feature_importances_)), maquina.feature_importances_)\n",
    "pyplot.show()"
   ]
  },
  {
   "cell_type": "code",
   "execution_count": 26,
   "metadata": {
    "id": "cqdFeemQYRdM"
   },
   "outputs": [],
   "source": [
    "#['sexo', 'estado_civil', 'renda', 'emprestimo', 'historico_credito']"
   ]
  },
  {
   "cell_type": "markdown",
   "metadata": {
    "id": "biTwrNW20xkf"
   },
   "source": [
    "## Podemos salvar nossa Máquina Preditiva para criarmos o Sistema na WEB\n"
   ]
  },
  {
   "cell_type": "code",
   "execution_count": 27,
   "metadata": {
    "id": "ckMCugTLDq8B"
   },
   "outputs": [],
   "source": [
    "#Comando de Salvamento da Máquina Preditiva\n",
    "import pickle \n",
    "pickle_out = open(\"maquina_preditiva.pkl\", mode = \"wb\") \n",
    "pickle.dump(maquina, pickle_out) \n",
    "pickle_out.close()"
   ]
  },
  {
   "cell_type": "markdown",
   "metadata": {
    "id": "yanOX57GYo1W"
   },
   "source": [
    "![](https://nanonets.com/blog/content/images/2020/08/Comp-1_1-1.gif)"
   ]
  },
  {
   "cell_type": "markdown",
   "metadata": {
    "id": "LI4TUsUJ0u66"
   },
   "source": [
    "# <font color='Blue'>6° Deploy - Implementando a Maquina Preditiva na WEB</font>\n",
    "![](https://buhgalteru.kz/wp-content/uploads/2020/09/robot.gif)\n",
    "![](https://techcrunch.com/wp-content/uploads/2020/01/spacex-starlink-launch-jan-20.gif?w=730&crop=1)"
   ]
  },
  {
   "cell_type": "markdown",
   "metadata": {
    "id": "XTRc7NjBKG65"
   },
   "source": [
    "# Fim"
   ]
  }
 ],
 "metadata": {
  "colab": {
   "collapsed_sections": [],
   "name": "aula2_maratona.ipynb",
   "provenance": []
  },
  "kernelspec": {
   "display_name": "Python 3",
   "language": "python",
   "name": "python3"
  },
  "language_info": {
   "codemirror_mode": {
    "name": "ipython",
    "version": 3
   },
   "file_extension": ".py",
   "mimetype": "text/x-python",
   "name": "python",
   "nbconvert_exporter": "python",
   "pygments_lexer": "ipython3",
   "version": "3.8.8"
  }
 },
 "nbformat": 4,
 "nbformat_minor": 1
}
